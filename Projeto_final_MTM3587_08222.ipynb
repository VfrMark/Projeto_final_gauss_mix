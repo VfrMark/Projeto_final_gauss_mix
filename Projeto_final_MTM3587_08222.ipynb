{
  "nbformat": 4,
  "nbformat_minor": 0,
  "metadata": {
    "colab": {
      "name": "Projeto_final_MTM3587-08222.ipynb",
      "provenance": [],
      "authorship_tag": "ABX9TyMcqYPxDgt/Wifb7gxpKxeG",
      "include_colab_link": true
    },
    "kernelspec": {
      "name": "python3",
      "display_name": "Python 3"
    },
    "language_info": {
      "name": "python"
    }
  },
  "cells": [
    {
      "cell_type": "markdown",
      "metadata": {
        "id": "view-in-github",
        "colab_type": "text"
      },
      "source": [
        "<a href=\"https://colab.research.google.com/github/VfrMark/Projeto_final_gauss_mix/blob/main/Projeto_final_MTM3587_08222.ipynb\" target=\"_parent\"><img src=\"https://colab.research.google.com/assets/colab-badge.svg\" alt=\"Open In Colab\"/></a>"
      ]
    },
    {
      "cell_type": "markdown",
      "source": [
        "#Introdução a Modelos de Mistura Gaussiana\n",
        "\n",
        "Neste notebook visa-se apresentar uma introdução aos __modelos de mistura gaussiana__, trazendo conceitos tanto teóricos, como práticos. \n",
        "\n",
        "Você verá: \n",
        "\n",
        "* Intuição dos __modelos de mistura gaussiana___\n",
        "* Hipóteses assumidas para a construção do modelo\n",
        "* Fundamentação matemática e probalística\n",
        "* Prós e contrás desse tipo de modelo\n",
        "* Aplicação prática com a biblioteca sklearn.\n",
        "\n",
        "Esse trabalho foi desenvolvido com o intuito de servir como avaliação final da matéria curso de Machine Learning oferecida na Universidade Federal de Santa Catarina lecionado pelo Professor Edson Cilos.\n",
        "\n",
        "Você também poderá encontrar o curso [aqui](https://www.udemy.com/course/edson-cilos-ml/)."
      ],
      "metadata": {
        "id": "asNcNJdSRWE2"
      }
    },
    {
      "cell_type": "markdown",
      "source": [
        "#Introdução\n",
        "\n",
        "Nosso objetivo ao criar um modelo é, em geral, conseguir representar e explicar os dados de alguma forma. É possível construir modelos de regressão, que por exemplo através de polinômios e interpolação infere os valores novos de uma função alvo.\n",
        "\n",
        "Ou é possível utilizar modelos de redução de dimensionalidade para conseguir visualizar a estrutura dos dados em 2D ou 3D.\n",
        "\n",
        "Nesse notebook veremos __modelos de mistura gaussiana__, que visa explicar os dados por meio de uma união de distribuições normais ou gaussianas de probabilidade."
      ],
      "metadata": {
        "id": "QQ3Os4uIEOCn"
      }
    },
    {
      "cell_type": "markdown",
      "source": [
        "#Conceitos iniciais\n",
        "\n",
        "\n",
        "Vamos iniciar apresentando o conceito de _Hard Assignment_ vs _Soft Assignment_.\n",
        "\n",
        "Intuitivamente, para um problema de classificaçãoo com _Hard Assignment_ um dado pertence somente a uma classe, esse dado é 100% da classe atribuida a ele. \n",
        "\n",
        "Por exemplo, o algoritmo _K-means_ calcula o vizinho mais próximo e atribui à nova instância a classe desse vizinho.\n",
        "\n",
        "Já para o _soft assignment_ podemos pensar como um dado podendo pertence parcialmente a diferentes classes.\n",
        "\n",
        "Por exemplo uma nova instância do seu conjunto de dados pode pertencer 70% a classe __A__ e 30% a classe __B__. Isso é feito atribuindo um _score_/valor de probabilidade desse dados pertencer a cada conjunto."
      ],
      "metadata": {
        "id": "Ix7oGsow3X6I"
      }
    },
    {
      "cell_type": "markdown",
      "source": [
        "###Vejamos o seguinte exemplo\n",
        "\n",
        "Para simplificar a visualização, vejamos o caso onde temos dados em apenas uma dimensão e distribuições gaussianas quaisquer."
      ],
      "metadata": {
        "id": "IVJWCtQu2vuN"
      }
    },
    {
      "cell_type": "code",
      "source": [
        "#Código apenas para gerar exemplos, valores aleatórios.\n",
        "\n",
        "from matplotlib import pyplot as mp\n",
        "import numpy as np\n",
        "\n",
        "def gaussian(x,x0,sigma):\n",
        "  return np.exp(-np.power((x - x0)/sigma, 2.)/2.)\n",
        "\n",
        "\n",
        "x_values = np.linspace(-3, 10, 120)\n",
        "x_values_2 = np.linspace(1, 10, 120)\n",
        "\n",
        "mp.plot(x_values, gaussian(x_values, 0, 3), ['brrr'])\n",
        "mp.plot(x_values_2, (1/2)*gaussian(x_values, 7.5, 6))\n",
        "mp.scatter([-1,0, 1,4.6,7.4,8,8.7], [0,0,0,0,0,0,0], c='bbbrggg')\n",
        "\n",
        "mp.show()"
      ],
      "metadata": {
        "colab": {
          "base_uri": "https://localhost:8080/",
          "height": 320
        },
        "id": "MHIVosjTmAfE",
        "outputId": "535c835a-222c-4494-d730-82003f9ca25b"
      },
      "execution_count": 77,
      "outputs": [
        {
          "output_type": "stream",
          "name": "stderr",
          "text": [
            "/usr/local/lib/python3.7/dist-packages/ipykernel_launcher.py:15: MatplotlibDeprecationWarning: Using a string of single character colors as a color sequence is deprecated. Use an explicit list instead.\n",
            "  from ipykernel import kernelapp as app\n"
          ]
        },
        {
          "output_type": "display_data",
          "data": {
            "text/plain": [
              "<Figure size 432x288 with 1 Axes>"
            ],
            "image/png": "[encoded data removed]"
          },
          "metadata": {
            "needs_background": "light"
          }
        }
      ]
    },
    {
      "cell_type": "markdown",
      "source": [
        "Os pontos em azul tem mais probabilidade de pertencer a distribuição azul e os verdes tem mais probabilidade de ser da verde. \n",
        "\n",
        "Ou seja, é mais provavel que os pontos azuis sejam amostras da variável aleatória que é descrita pela distribuição azul, e analogamente para o verde.\n",
        "\n",
        "Agora veja o ponto vermelho, está na intersecção entre essas distribuições, é um ponto 50% azul e 50% verde.\n",
        "\n",
        "O objetivo do __modelo de mistura gaussiana__ é construir uma distribuição que é uma combinação/mistura de distribuições gaussianas, como a azul e verde do exemplo, para modelar os dados."
      ],
      "metadata": {
        "id": "xBggvJ_D6C3d"
      }
    },
    {
      "cell_type": "code",
      "source": [
        "#Exemplos construído apartir do livro Mathematics for Machine Learning.\n",
        "\n",
        "x_values2 = np.linspace(-5, 8, 120)\n",
        "\n",
        "mp.plot(x_values2, (1/2)*gaussian(x_values, -2, 1/2))\n",
        "mp.plot(x_values2, (0.2)*gaussian(x_values, 1, 2))\n",
        "mp.plot(x_values2, (0.3)*gaussian(x_values, 4, 1))\n",
        "\n",
        "mp.plot(x_values2, (1/2)*gaussian(x_values, -2, 1/2) + (0.2)*gaussian(x_values, 1, 2) + (0.3)*gaussian(x_values, 4, 1))\n",
        "\n",
        "mp.show()"
      ],
      "metadata": {
        "colab": {
          "base_uri": "https://localhost:8080/",
          "height": 265
        },
        "id": "LPZzcQQaQMo3",
        "outputId": "c3db5253-6c4a-459f-a013-a8af9642f4c0"
      },
      "execution_count": 78,
      "outputs": [
        {
          "output_type": "display_data",
          "data": {
            "text/plain": [
              "<Figure size 432x288 with 1 Axes>"
            ],
            "image/png": "[encoded data removed]"
          },
          "metadata": {
            "needs_background": "light"
          }
        }
      ]
    },
    {
      "cell_type": "markdown",
      "source": [
        "Assim, a linha vermelha é uma distribuição que é combinação das três outras combinações gaussianas."
      ],
      "metadata": {
        "id": "L3eyxnGJShWu"
      }
    },
    {
      "cell_type": "markdown",
      "source": [
        "#Formulação matemática\n",
        "\n",
        "Após entender conceitualmente como esse modelo funciona, vamos definí-lo formalmente.\n",
        "\n",
        "Seja o conjunto de dados não rotulados $\\mathcal{X} = \\{x^{(1)}, x^{(2)}, \\cdots, x^{(N)}\\}$, onde $x^{(i)} = (x^{(i)}_1, x^{(i)}_2, \\cdots, x^{(i)}_n) \\in \\mathbb{R}^n$. Aqui estamos supondo que esses dados são amostras i.i.d de uma distribuição desconhecida $p(x \\mid \\theta)$.\n",
        "\n",
        "Considere $K \\in \\mathbb{Z}$ distribuições gaussiana $\\mathcal{N}(x \\mid \\mu_k, \\Sigma_k )$. Um __modelo de mistura gaussiana__ é um modelo de densidade tal que $$p(\\mathcal{X} \\mid \\theta) = \\sum_{k=1}^{K} \\pi_{k}\\mathcal{N}(x \\mid \\mu_k,  \\Sigma_k )$$ e $$ 0 \\leq \\pi_k \\leq 1, \\qquad \\sum_{k=1}^{K} \\pi_k = 1$$\n",
        "\n",
        "Define-se $\\theta = \\{\\mu_k, \\Sigma_k, \\pi_k : k = 1, \\cdots, K\\}$ como a coleção de parâmetros do modelos. E ainda a média $\\mu$ e covariância $\\Sigma$ como:\n",
        "\n",
        "\\\\\n",
        "$$\\mu = \\frac{1}{N} (x^{(1)}_1 + x^{(2)}_1 + \\cdots + x^{(N)}_1, \\cdots, x^{(1)}_n + x^{(2)}_n + \\cdots + x^{(N)}_n)$$\n",
        "\n",
        "\\\\\n",
        "\n",
        "$$\\Sigma = \\begin{bmatrix} \n",
        "Var(x_1) & Cov(x_1,x_2) & \\cdots & Cov(x_1,x_n)  \\\\ \n",
        "Cov(x_2,x_1) & Var(x_2) & \\cdots & Cov(x_2,x_n)   \\\\\n",
        "\\vdots & \\vdots & \\ddots & \\vdots   \\\\\n",
        "Cov(x_n,x_1) & Cov(x_n, x_2) & \\cdots & Var(x_n) &\n",
        "\\end{bmatrix}\n",
        "$$"
      ],
      "metadata": {
        "id": "mFoI6SPtJfC4"
      }
    },
    {
      "cell_type": "markdown",
      "source": [
        "O objetivo agora é encontrar uma boa representação da distribuição $p(x \\mid \\theta)$ por meio da mistura gaussiana com $K$ componentes.\n",
        "\n",
        "Para isso, encontraremos os parâmetros $\\theta_{ML}$ que maximizam o _log-likelihood_, ou seja, que maximizam a seguinte equação\n",
        "$$log \\ p(\\mathcal{X} \\mid \\theta)= \\sum_{n=1}^N log \\ p(x_n \\mid \\theta) = \\sum_{n=1}^N log \\ \\sum_{n=1}^K \\pi_k \\mathcal{N}(x_n \\mid \\mu_k, \\Sigma_k  $$"
      ],
      "metadata": {
        "id": "8ykX_Fo1RxeZ"
      }
    },
    {
      "cell_type": "markdown",
      "source": [
        "Definiremos também a seguinte medida\n",
        "\n",
        "$$r_{nk} = \\frac{\\pi_k\\mathcal{N}(x_n \\mid \\mu_k,  \\Sigma_k )}{\\sum_{j=1}^{K}\\pi_{j}\\mathcal{N}(x_n \\mid \\mu_j,  \\Sigma_j )}$$\n",
        "\n",
        "é a responsabilidade da k-ésima componente de mistura para o n-ésimo dado"
      ],
      "metadata": {
        "id": "Euo9cdzfTQ69"
      }
    },
    {
      "cell_type": "markdown",
      "source": [
        "A responsabilidade $r_{nk}$ da k-ésima componente de mistura para o dado $x_n$ é proporcional a verossimilhança\n",
        "\n",
        "$$p(x_n \\mid \\pi_k, \\mu_k, \\Sigma_k) = \\pi_k\\mathcal{N}(x_n, \\mu_k,\\Sigma_k)$$\n",
        "\n",
        "Logo, componentes de mistura possume mais responsabilidade para um dado quando esse dado pode ser uma amostra plausível da variável aleatória representada por aquela componente de mistura.\n",
        "\n",
        "veja ainda que o vetor $$r_n = [r_{n1}, r_{n2}, \\cdots, r_{nK} ]^\\intercal$$ é um vetor de probabilidade normalizado, ou seja, $\\sum_{k}r_{nk}=1$ com $r_{nk} \\geq 0$.\n",
        "\n",
        "Esse vetor distribui uma massa ou score de probabilidade entre os K componentes de mistura. $r_n$ é o _soft assignment_ para o dado $x_n$ em relação aos K componentes\n",
        "\n"
      ],
      "metadata": {
        "id": "NP02gO5DWP73"
      }
    },
    {
      "cell_type": "markdown",
      "source": [
        "###Teoremas importantes\n",
        "\n",
        "No processo iterativo de encontrar os parâmetros que melhor descrevem os dados, veremos que todas as equações de atualização dos parâmetros $\\mu_k, \\Sigma_k, \\pi_k$ dependem das responsabilidades, o que torna impossível uma solução de forma fechada para o problema de estimação de máxima verossimilhança.\n",
        "\n",
        "Para contornar isso, é feito o processo de para responsabilidades dadas são calculados e atualizados um parâmetro do modelo por vez, mantendo os outros fixos. Após isso, as responsabilidades serão recomputadas.\n",
        "\n",
        "__Teorema 1:__ A atualização dos parâmetros $\\mu_k, k = 1, \\cdots, K$, do modelo de mistura gaussiana é dado por:\n",
        "\n",
        "$$\\mu_k^{new} = \\frac{\\sum_{n=1}^{N}r_{nk}x_n}{\\sum_{n=1}^{N}r_{nk}}$$\n",
        "\n",
        "__Teorema 2:__ A atualização dos parâmetros $\\Sigma_k$ são \n",
        "\n",
        "$$\\Sigma_k^{new} = \\frac{1}{N_k} \\sum_{n=1}^{N}r_{nk}(x_n - \\mu_k)(x_n - \\mu_k)^\\intercal).$$\n",
        "\n",
        "__Teorema 3:__ As atualizações dos parâmetros $\\pi_k$ são dados por\n",
        "\n",
        "$$\\pi_k^{new} = \\frac{N_k}{N}, \\qquad k=1, \\cdots, K$$\n",
        "\n",
        "As provas desses teoremas estão além do escopo desse notebook, você pode encontrá-las no capítulo de misturas gaussianas da referência (1)."
      ],
      "metadata": {
        "id": "YRm_k61vbw03"
      }
    },
    {
      "cell_type": "markdown",
      "source": [
        "###Estimando os parâmetros\n",
        "\n",
        "Para estimar os parâmetros do modelo de misturas gaussianas segue-se o seguinte algoritmo:\n",
        "\n",
        "* Inicia-se com parâmetros $\\mu_k,\\Sigma_k , \\pi_k$ aleatórios\n",
        "* Repetir em loop até convergir\n",
        "  * Avaliar as responsabilidades $r_{nk}$ para cada ponto $x_n$ utilizando os parâmetros $\\mu_k,\\Sigma_k , \\pi_k$ atuais:\n",
        "$$r_{nk} = \\frac{\\pi_k \\mathcal{N}(x_n \\mid \\mu_k, \\Sigma_k)}{\\sum_{j}\\pi_j\\mathcal{N}(x_n \\mid \\mu_j, \\Sigma_j)}$$\n",
        "\n",
        "  * Reestimar os parâmetros $\\mu_k,\\Sigma_k ,\\pi_k$ com as responsabilidades $r_{nk}$ computadas.\n",
        "\n",
        "$$\\mu_k = \\frac{1}{N_k} \\sum_{n=1}^{N}r_{nk}x_n$$\n",
        "\n",
        "$$\\Sigma_k = \\frac{1}{N_k} \\sum_{n=1}^{N}r_{nk}(x_n - \\mu_k)(x_n - \\mu_k)^\\intercal$$\n",
        "\n",
        "$$\\pi_k = \\frac{N_k}{N}$$\n",
        "\n",
        "\n",
        "\n",
        "Esse algoritmo é chamado de _ expectation maximization_ ou algoritmo EM, e após finalizar esse processo, temos uma distribuição de densidade $p(\\mathcal{X} \\mid \\theta^{*})$ que explica os nossos dados, onde $\\theta^{*}$ é o conjunto com os melhores parâmetros encontrados."
      ],
      "metadata": {
        "id": "vTUc96LHoFys"
      }
    },
    {
      "cell_type": "markdown",
      "source": [
        "#Prós e contras\n",
        "\n",
        "\n",
        "* __Prós__:\n",
        "  * Velocidade: O modelo de misturas gaussianas é o algoritmo mais rápido para treinar entre os modelos de misturas.\n",
        "  * Capacidade de aprender estruturas complexas dos dados, como diferentes formas e mesmo agrupamentos dos dados que se sobrepõe.\n",
        "  * Como já comentado, esse algoritmo é capaz de aplicar _soft assignment_.\n",
        "\n",
        "\n",
        "* __Contras__:\n",
        "  * Quando não se tem pontos suficiente para cada componentes de mistura estimar as matrizes de covariância torna-se difícil, e o algoritmo é conhecido por divergir e encontrar soluções com verossimilhança infinita.\n",
        "  * Na prática, geralmente não se sabe qual valor de K, ou seja, quantas componentes de misturas há."
      ],
      "metadata": {
        "id": "-JGxcqCYp-2G"
      }
    },
    {
      "cell_type": "markdown",
      "source": [
        "#Aplicação\n",
        "\n",
        "A biblioteca _sklearn_ facilita treinar modelos de mistura gaussiana uma vez que eles já implementaram o código e podemos apenas passar os hiperparâmetros que queremos e treinar o modelo.\n",
        "\n",
        "Veja a seguir os hiperparâmetros que é possível estabelecer segundo a documentação do _sklearn_\n",
        "\n",
        "sklearn.mixture.GaussianMixture(n_components=1, *, covariance_type='full', tol=0.001, reg_covar=1e-06, max_iter=100, n_init=1, init_params='kmeans', weights_init=None, means_init=None, precisions_init=None, random_state=None, warm_start=False, verbose=0, verbose_interval=10)\n",
        "\n",
        "Vale destacar os parâmetros _weights\\_init_, _means\\_init_, que nos permite iniciar o modelo com $\\pi_k, \\mu_k$ específicos.\n",
        "\n",
        "Utilizamos a seguir o california housing dataset para exemplifícar como podemos treinar o modelo com o _sklearn_"
      ],
      "metadata": {
        "id": "Iw3kSOY9uugH"
      }
    },
    {
      "cell_type": "code",
      "source": [
        "#importando os dados do sklearn\n",
        "from sklearn import datasets\n",
        "import pandas as pd\n",
        "\n",
        "iris_data = datasets.load_iris()\n",
        "X = iris_data.data\n",
        "y = iris_data.target"
      ],
      "metadata": {
        "id": "OaMTBJP-zSZR"
      },
      "execution_count": 79,
      "outputs": []
    },
    {
      "cell_type": "code",
      "source": [
        "#Ver quantidade de instâncias e features desse conjunto de dados\n",
        "print(X.shape)\n",
        "print(y.shape)"
      ],
      "metadata": {
        "colab": {
          "base_uri": "https://localhost:8080/"
        },
        "id": "9yUwXaKqzxnD",
        "outputId": "f851be7d-9eef-4dc9-f29a-b79ae2d5245e"
      },
      "execution_count": 80,
      "outputs": [
        {
          "output_type": "stream",
          "name": "stdout",
          "text": [
            "(150, 4)\n",
            "(150,)\n"
          ]
        }
      ]
    },
    {
      "cell_type": "code",
      "source": [
        "#Criando um conjunto de teste com duas instâncias apenas para exemplificar\n",
        "\n",
        "df_X = pd.DataFrame(X)\n",
        "df_y = pd.DataFrame(y)\n",
        "\n",
        "X_train = df_X.drop([15,57])\n",
        "y_train = df_y.drop([15,57])\n",
        "X_test = df_X.iloc[[15,57]]\n",
        "y_test = df_y.iloc[[15,57]]"
      ],
      "metadata": {
        "id": "5hmOh6U04MbU"
      },
      "execution_count": 81,
      "outputs": []
    },
    {
      "cell_type": "code",
      "source": [
        "# Importações necessárias para construir a pipeline\n",
        "\n",
        "from sklearn.pipeline import Pipeline\n",
        "from sklearn.impute import SimpleImputer\n",
        "from sklearn.preprocessing import StandardScaler\n",
        "\n",
        "# Pipeline que será usada para tratar os dados\n",
        "\n",
        "pipeline = Pipeline([\n",
        "             ('imputer', SimpleImputer(strategy='median')),\n",
        "             ('scaler', StandardScaler())\n",
        "             ])"
      ],
      "metadata": {
        "id": "aQzol2eP0e09"
      },
      "execution_count": 82,
      "outputs": []
    },
    {
      "cell_type": "code",
      "source": [
        "# Passando os dados pelo pipeline\n",
        "\n",
        "iris_prepared = pipeline.fit_transform(X_train)"
      ],
      "metadata": {
        "id": "k0QSkRXf01ez"
      },
      "execution_count": 83,
      "outputs": []
    },
    {
      "cell_type": "code",
      "source": [
        "#Treinando modelo\n",
        "from sklearn.mixture import GaussianMixture\n",
        "\n",
        "gauss_mixture = GaussianMixture(n_components = 3, random_state = 42)"
      ],
      "metadata": {
        "id": "o1Jw9i3j1EvG"
      },
      "execution_count": 84,
      "outputs": []
    },
    {
      "cell_type": "code",
      "source": [
        "model = gauss_mixture.fit(X_train)"
      ],
      "metadata": {
        "id": "exlVlcXu7BNp"
      },
      "execution_count": 85,
      "outputs": []
    },
    {
      "cell_type": "markdown",
      "source": [
        "Com o modelo treinado, vejamos os scores de probabilidade que o modelo aplica aos dois pontos que tinhamos separado como 'teste'."
      ],
      "metadata": {
        "id": "6Ps7gHiP_ZO9"
      }
    },
    {
      "cell_type": "code",
      "source": [
        "model.predict_proba(X_test)"
      ],
      "metadata": {
        "colab": {
          "base_uri": "https://localhost:8080/"
        },
        "id": "IP3MYkvy-H-s",
        "outputId": "7346a320-c43e-4197-d4aa-014abfc9e1e8"
      },
      "execution_count": 87,
      "outputs": [
        {
          "output_type": "execute_result",
          "data": {
            "text/plain": [
              "array([[2.76846497e-46, 1.00000000e+00, 7.57579754e-63],\n",
              "       [1.80212308e-04, 2.31124131e-33, 9.99819788e-01]])"
            ]
          },
          "metadata": {},
          "execution_count": 87
        }
      ]
    },
    {
      "cell_type": "markdown",
      "source": [
        "Observamos que para o primeiro dado, o score de probabilidade associado a componente 1 e 3 é extremamente baixo, e a componente 2 é praticamente 100%.\n",
        "\n",
        "Para o segundo dado, temos um score baixo para as componentes 1 e 2 e maior probabilidade para a componente 3."
      ],
      "metadata": {
        "id": "_tnBA_LB_kGA"
      }
    },
    {
      "cell_type": "markdown",
      "source": [
        "#Bibliografia\n",
        "\n",
        "(1) Deisenroth , M. Peter; Faisal, A. Aldo; Ong, C. Soon. Mathematics for Machine Learning. Cambridge: Cambridge University Press, 2020. [Link](https://mml-book.github.io/book/mml-book.pdf);\n",
        "\n",
        "(2) Machine Learning | Curso completo em Python | 2022. [Link](https://www.udemy.com/course/edson-cilos-ml/);\n",
        "\n",
        "(3) Scikit Learning, 2022. [link](https://scikit-learn.org/stable/modules/density.html).\n",
        "\n",
        "(4) Aurlien Gron. 2017. Hands-On Machine Learning with Scikit-Learn and TensorFlow: Concepts, Tools, and Techniques to Build Intelligent Systems (2nd. ed.). O'Reilly Media, Inc."
      ],
      "metadata": {
        "id": "YZsji2D1WMJN"
      }
    }
  ]
}
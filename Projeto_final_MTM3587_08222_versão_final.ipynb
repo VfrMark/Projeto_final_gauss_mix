{
  "nbformat": 4,
  "nbformat_minor": 0,
  "metadata": {
    "colab": {
      "name": "Projeto_final_MTM3587_08222_versão-final.ipynb",
      "provenance": [],
      "include_colab_link": true
    },
    "kernelspec": {
      "name": "python3",
      "display_name": "Python 3"
    },
    "language_info": {
      "name": "python"
    }
  },
  "cells": [
    {
      "cell_type": "markdown",
      "metadata": {
        "id": "view-in-github",
        "colab_type": "text"
      },
      "source": [
        "<a href=\"https://colab.research.google.com/github/VfrMark/Projeto_final_gauss_mix/blob/main/Projeto_final_MTM3587_08222_vers%C3%A3o_final.ipynb\" target=\"_parent\"><img src=\"https://colab.research.google.com/assets/colab-badge.svg\" alt=\"Open In Colab\"/></a>"
      ]
    },
    {
      "cell_type": "markdown",
      "source": [
        "#Introdução a Modelos de Mistura Gaussiana\n",
        "\n",
        "Neste notebook visa-se apresentar uma introdução aos __modelos de mistura gaussiana__, trazendo conceitos tanto teóricos, como práticos. \n",
        "\n",
        "Você verá: \n",
        "\n",
        "* Intuição dos __modelos de mistura gaussiana__\n",
        "* Hipóteses assumidas para a construção do modelo\n",
        "* Fundamentação matemática e probabilística\n",
        "* Prós e contrás desse tipo de modelo\n",
        "* Aplicação prática com a biblioteca sklearn.\n",
        "\n",
        "Esse trabalho faz parte do projeto final do curso de Machine Learning oferecido na Universidade Federal de Santa Catarina lecionado pelo Professor Edson Cilos.\n",
        "\n",
        "Você também poderá encontrar o curso [aqui](https://www.udemy.com/course/edson-cilos-ml/)."
      ],
      "metadata": {
        "id": "asNcNJdSRWE2"
      }
    },
    {
      "cell_type": "markdown",
      "source": [
        "#Introdução\n",
        "\n",
        "Nosso objetivo ao criar um modelo é, em geral, conseguir representar e explicar os dados de alguma forma. Além de modelos de regressão, classificação e redução de dimensionalidade, há também os modelos de estimativa de densidade.\n",
        "\n",
        "Em estimativa de densidade representa-se os dados de forma compacta utilizando uma densidade de uma família paramétrica de distribuição de probabilidade, como distribuição Gaussiana ou Beta (Deisenroth et al., 2020).\n",
        "\n",
        "Por exemplo, podemos encontrar a média e variância de um conjunto de dados a fim de representar os dados de forma compacta por meio de uma distribuição Gaussiana, e com essa média e variância inferir uma distribuição subjacente aos dados. Assim, podemos pensar que o conjunto de dados é uma representação de uma amostra retirada a partir dessa distribuição. (Deisenroth et al., 2020)\n",
        "\n",
        "Nesse notebook veremos __modelos de mistura gaussiana__, que visam explicar os dados por meio de uma união de distribuições normais (gaussianas) de probabilidade."
      ],
      "metadata": {
        "id": "QQ3Os4uIEOCn"
      }
    },
    {
      "cell_type": "markdown",
      "source": [
        "#Conceitos iniciais\n",
        "\n",
        "\n",
        "Vamos iniciar apresentando o conceito de _Hard Assignment_ vs _Soft Assignment_.\n",
        "\n",
        "Intuitivamente, para um problema de classificaçãoo com _Hard Assignment_ um dado pertence somente a uma classe, esse dado é 100% da classe atribuida a ele. \n",
        "\n",
        "Por exemplo, o algoritmo _K-means_ calcula o vizinho mais próximo e atribui à nova instância a classe desse vizinho.\n",
        "\n",
        "Já para o _soft assignment_ podemos pensar como um dado podendo pertence parcialmente a diferentes classes.\n",
        "\n",
        "Por exemplo uma nova instância do seu conjunto de dados pode pertencer 70% a classe __A__ e 30% a classe __B__. Isso é feito atribuindo um _score_/valor de probabilidade desse dados pertencer a cada conjunto."
      ],
      "metadata": {
        "id": "Ix7oGsow3X6I"
      }
    },
    {
      "cell_type": "markdown",
      "source": [
        "###Vejamos o seguinte exemplo\n",
        "\n",
        "Para simplificar a visualização, vejamos o caso onde temos dados em apenas uma dimensão e distribuições gaussianas quaisquer."
      ],
      "metadata": {
        "id": "IVJWCtQu2vuN"
      }
    },
    {
      "cell_type": "code",
      "source": [
        "#Código apenas para gerar exemplos, valores aleatórios.\n",
        "\n",
        "from matplotlib import pyplot as mp\n",
        "import numpy as np\n",
        "\n",
        "def gaussian(x,x0,sigma):\n",
        "  return np.exp(-np.power((x - x0)/sigma, 2.)/2.)\n",
        "\n",
        "\n",
        "x_values = np.linspace(-3, 10, 120)\n",
        "x_values_2 = np.linspace(1, 10, 120)\n",
        "\n",
        "mp.plot(x_values, gaussian(x_values, 0, 3), ['brrr'])\n",
        "mp.plot(x_values_2, (1/2)*gaussian(x_values, 7.5, 6))\n",
        "mp.scatter([-1,0, 1,4.6,7.4,8,8.7], [0,0,0,0,0,0,0], c='bbbrggg')\n",
        "\n",
        "mp.show()"
      ],
      "metadata": {
        "colab": {
          "base_uri": "https://localhost:8080/",
          "height": 320
        },
        "id": "MHIVosjTmAfE",
        "outputId": "bb318dba-aa57-4d4c-f8ad-a75ba152269e"
      },
      "execution_count": null,
      "outputs": [
        {
          "output_type": "stream",
          "name": "stderr",
          "text": [
            "/usr/local/lib/python3.7/dist-packages/ipykernel_launcher.py:15: MatplotlibDeprecationWarning: Using a string of single character colors as a color sequence is deprecated. Use an explicit list instead.\n",
            "  from ipykernel import kernelapp as app\n"
          ]
        },
        {
          "output_type": "display_data",
          "data": {
            "text/plain": [
              "<Figure size 432x288 with 1 Axes>"
            ],
            "image/png": "[encoded data removed]"
          },
          "metadata": {
            "needs_background": "light"
          }
        }
      ]
    },
    {
      "cell_type": "markdown",
      "source": [
        "Os pontos em azul tem mais probabilidade de pertencer a distribuição azul e os verdes tem mais probabilidade de ser da verde. \n",
        "\n",
        "Ou seja, é mais provavel que os pontos azuis sejam amostras da variável aleatória que é descrita pela distribuição azul, e analogamente para o verde.\n",
        "\n",
        "Agora veja o ponto vermelho, está na intersecção entre essas distribuições, é um ponto 50% azul e 50% verde.\n",
        "\n",
        "O objetivo do __modelo de mistura gaussiana__ é construir uma distribuição que é uma combinação/mistura de distribuições gaussianas, como a azul e verde do exemplo, para modelar os dados."
      ],
      "metadata": {
        "id": "xBggvJ_D6C3d"
      }
    },
    {
      "cell_type": "code",
      "source": [
        "#Exemplos construído a partir do livro Mathematics for Machine Learning.\n",
        "\n",
        "x_values2 = np.linspace(-5, 8, 120)\n",
        "\n",
        "mp.plot(x_values2, (1/2)*gaussian(x_values, -2, 1/2), color='g')\n",
        "mp.plot(x_values2, (0.2)*gaussian(x_values, 1, 2), color='b')\n",
        "mp.plot(x_values2, (0.3)*gaussian(x_values, 4, 1), color='black')\n",
        "\n",
        "mp.plot(x_values2, (1/2)*gaussian(x_values, -2, 1/2) + (0.2)*gaussian(x_values, 1, 2) + (0.3)*gaussian(x_values, 4, 1), color='r')\n",
        "\n",
        "mp.show()"
      ],
      "metadata": {
        "colab": {
          "base_uri": "https://localhost:8080/",
          "height": 265
        },
        "id": "LPZzcQQaQMo3",
        "outputId": "c68a5fc2-457e-475e-8938-304c476638d6"
      },
      "execution_count": null,
      "outputs": [
        {
          "output_type": "display_data",
          "data": {
            "text/plain": [
              "<Figure size 432x288 with 1 Axes>"
            ],
            "image/png": "[encoded data removed]"
          },
          "metadata": {
            "needs_background": "light"
          }
        }
      ]
    },
    {
      "cell_type": "markdown",
      "source": [
        "Assim, a linha vermelha é uma distribuição que é combinação das três outras combinações gaussianas."
      ],
      "metadata": {
        "id": "L3eyxnGJShWu"
      }
    },
    {
      "cell_type": "markdown",
      "source": [
        "#Formulação matemática\n",
        "\n",
        "Após entender conceitualmente como esse modelo funciona, vamos definí-lo formalmente.\n",
        "\n",
        "Seja o conjunto de dados não rotulados $\\mathcal{X} = \\{x^{(1)}, x^{(2)}, \\cdots, x^{(N)}\\}$, onde $x^{(i)} = (x^{(i)}_1, x^{(i)}_2, \\cdots, x^{(i)}_n) \\in \\mathbb{R}^n$. Aqui estamos supondo que esses dados são amostras i.i.d de uma distribuição desconhecida $p(x \\mid \\theta)$.\n",
        "\n",
        "Considere $K \\in \\mathbb{Z}$ distribuições gaussiana $\\mathcal{N}(x \\mid \\mu_k, \\Sigma_k )$. Um __modelo de mistura gaussiana__ é um modelo de densidade tal que $$p(\\mathcal{X} \\mid \\theta) = \\sum_{k=1}^{K} \\pi_{k}\\mathcal{N}(x \\mid \\mu_k,  \\Sigma_k )$$ e $$ 0 \\leq \\pi_k \\leq 1, \\qquad \\sum_{k=1}^{K} \\pi_k = 1$$\n",
        "\n",
        "Define-se $\\theta = \\{\\mu_k, \\Sigma_k, \\pi_k : k = 1, \\cdots, K\\}$ como a coleção de parâmetros do modelos. E ainda a média $\\mu$ e covariância $\\Sigma$ como:\n",
        "\n",
        "\\\\\n",
        "$$\\mu = \\frac{1}{N} (x^{(1)}_1 + x^{(2)}_1 + \\cdots + x^{(N)}_1, \\cdots, x^{(1)}_n + x^{(2)}_n + \\cdots + x^{(N)}_n)$$\n",
        "\n",
        "\\\\\n",
        "\n",
        "$$\\Sigma = \\begin{bmatrix} \n",
        "Var(x_1) & Cov(x_1,x_2) & \\cdots & Cov(x_1,x_n)  \\\\ \n",
        "Cov(x_2,x_1) & Var(x_2) & \\cdots & Cov(x_2,x_n)   \\\\\n",
        "\\vdots & \\vdots & \\ddots & \\vdots   \\\\\n",
        "Cov(x_n,x_1) & Cov(x_n, x_2) & \\cdots & Var(x_n) &\n",
        "\\end{bmatrix}\n",
        "$$"
      ],
      "metadata": {
        "id": "mFoI6SPtJfC4"
      }
    },
    {
      "cell_type": "markdown",
      "source": [
        "O objetivo agora é encontrar uma boa representação da distribuição $p(x \\mid \\theta)$ por meio da mistura gaussiana com $K$ componentes.\n",
        "\n",
        "Observamos primeiramente que sob a hipótese dos dados i.i.d temos que:\n",
        "\n",
        "$${p(\\mathcal{X}, \\theta) = \\prod_{n=1}^{N} p(x_{n}, \\theta) = \\prod_{n=1}^{N} \\left( \\sum_{k=1}^{K} \\pi_k \\mathcal{N}(x_n \\mid \\mu_k, \\Sigma_k) \\right)}$$"
      ],
      "metadata": {
        "id": "8ykX_Fo1RxeZ"
      }
    },
    {
      "cell_type": "markdown",
      "source": [
        "Aplicando a função $log$ na equação anterior, temos\n",
        "\n",
        "$$log \\ p(\\mathcal{X} \\mid \\theta) = log \\left( \\prod_{n=1}^{N} p(x_{n}, \\theta) \\right) = \\sum_{n=1}^N log \\ p(x_n \\mid \\theta) = \\sum_{n=1}^N log \\left( \\sum_{n=1}^K \\pi_k \\mathcal{N}(x_n \\mid \\mu_k, \\Sigma_k) \\right) = L(\\mu_k, \\Sigma_k, \\pi_k) $$\n",
        "\n",
        "\\\n",
        "\n",
        "Essa função é chamada de _log-likelihood_. Encontrando os parâmetros $\\theta_{ML}$ que maximizam essa função teremos $ p(x \\mid \\theta_{ML}) \\approx p(x \\mid \\theta) $ que aproxima a distribuição desconhecida que desejamos encontrar."
      ],
      "metadata": {
        "id": "lx0DKmuFEkCP"
      }
    },
    {
      "cell_type": "markdown",
      "source": [
        "O procedimento natural para encontrar $\\theta_{ML}$ que maximiza a função seria calcular o gradiente  $\\frac{dL}{d\\theta}$ da _log-likelihood_ com respeito aos parâmetros $\\theta$ do modelo, igualar a zero e resolver para $\\theta$. Contudo, para essa abordagem não há como opter uma solução de forma fechada.\n",
        "\n",
        "Sendo assim, utiliza-se uma abordagem iterativa que encontra bons parâmetros para $\\theta_{ML}$ chamada Expectation Maximization (EM) para __modelos de mistura gaussiana__."
      ],
      "metadata": {
        "id": "kI6Qh3OJFPTy"
      }
    },
    {
      "cell_type": "markdown",
      "source": [
        "Lembre que em qualquer ponto ótimo local de uma função ocorre necessariamente que o seu gradiente com respeito aos parâmetros é zero. No caso desse estudo, isso nos dá as seguintes condições necessárias quando otimizamos o _log-likelihood_ com respeito aos parâmetros $\\mu_k, \\Sigma_k, \\pi_k$:\n",
        "\n",
        "$$\\frac{\\partial L}{\\partial \\mu_k} = 0^\\intercal \\Leftrightarrow \\sum_{n=1}^{N} \\frac{\\partial \\ log \\ p(x_n \\mid \\theta)}{\\partial \\mu_k} = 0^\\intercal$$\n",
        "\n",
        "$$\\frac{\\partial L}{\\partial \\Sigma_k} = 0^\\intercal \\Leftrightarrow \\sum_{n=1}^{N} \\frac{\\partial \\ log \\ p(x_n \\mid \\theta)}{\\partial \\Sigma_k} = 0^\\intercal  \\qquad  (*)$$\n",
        "\n",
        "$$\\frac{\\partial L}{\\partial \\pi_k} = 0 \\Leftrightarrow \\sum_{n=1}^{N} \\frac{\\partial \\ log \\ p(x_n \\mid \\theta)}{\\partial \\pi_k} = 0$$"
      ],
      "metadata": {
        "id": "Y0u6KOaP9WLK"
      }
    },
    {
      "cell_type": "markdown",
      "source": [
        "## Responsabilidade\n",
        "\n",
        "Nas seções seguintes iremos calcular essas derivadas parcias, porém nessa seção apresentaremos uma medida muito importante para o desenvolvimente desse modelo: as responsabilidades."
      ],
      "metadata": {
        "id": "znz_vuawDA1m"
      }
    },
    {
      "cell_type": "markdown",
      "source": [
        "Definiremos a seguinte medida\n",
        "\n",
        "$$r_{nk} = \\frac{\\pi_k\\mathcal{N}(x_n \\mid \\mu_k,  \\Sigma_k )}{\\sum_{j=1}^{K}\\pi_{j}\\mathcal{N}(x_n \\mid \\mu_j,  \\Sigma_j )}$$\n",
        "\n",
        "que é a responsabilidade da k-ésima componente de mistura para o n-ésimo dado"
      ],
      "metadata": {
        "id": "Euo9cdzfTQ69"
      }
    },
    {
      "cell_type": "markdown",
      "source": [
        "A responsabilidade $r_{nk}$ da k-ésima componente de mistura para o dado $x_n$ é proporcional a verossimilhança\n",
        "\n",
        "$$p(x_n \\mid \\pi_k, \\mu_k, \\Sigma_k) = \\pi_k\\mathcal{N}(x_n, \\mu_k,\\Sigma_k).$$\n",
        "\n",
        "Portanto, fixado uma amostra $x^{(n)}$, $r_{nk}$ indica a responsabilidade (ou contribuição) da k-ésima componente. Em outras palavras, componentes de mistura possuem mais responsabilidade quanto maior for a plausibilidade de representar determinada amostra como pertencente àquela componente.\n",
        "\n",
        "__Observação importante:__ perceba que $p(x_n \\mid \\pi_k, \\mu_k, \\Sigma_k)$ é diferente de $p(x_n, \\theta)$, uma vez que $p(x_n, \\theta)$ considera $\\theta$ com todos os parâmetros qualquer que seja o indíce $k$, já $p(x_n \\mid \\pi_k, \\mu_k, \\Sigma_k)$ considera apenas os $k$-ésimos parâmetros.\n",
        "\n",
        "Além disso, note que o vetor \n",
        "\n",
        "$$r_n = [r_{n1}, r_{n2}, \\cdots, r_{nK} ]^\\intercal$$\n",
        "\n",
        " é um vetor de probabilidade normalizado, ou seja, \n",
        " \n",
        "$$\\displaystyle \\sum_{k}r_{nk}=1$$ com $r_{nk} \\geq 0$.\n",
        "\n",
        "O vetor $r_{n}$ distribui uma massa ou score de probabilidade entre os K componentes de mistura. A entrada com maior valor indica a componente mais plausível para a amostra, representando um _hard assignment_. Por outro lado, $r_n$ é o vetor de _soft assignment_ para o dado $x_n$ em relação às $K$ componentes. \n",
        "\n"
      ],
      "metadata": {
        "id": "NP02gO5DWP73"
      }
    },
    {
      "cell_type": "markdown",
      "source": [
        "## Teoremas importantes\n",
        "\n",
        "No processo iterativo de encontrar os parâmetros que melhor descrevem os dados, veremos que todas as equações de atualização dos parâmetros $\\mu_k, \\Sigma_k, \\pi_k$ dependem das responsabilidades, o que torna impossível uma solução de forma fechada para o problema de estimação de máxima verossimilhança.\n",
        "\n",
        "Para contornar isso, é feito o processo de para responsabilidades dadas são calculados e atualizados um parâmetro do modelo por vez, mantendo os outros fixos. Após isso, as responsabilidades serão recomputadas.\n",
        "\n",
        "__Teorema 1:__ A atualização dos parâmetros $\\mu_k, k = 1, \\cdots, K$, do modelo de mistura gaussiana é dado por:\n",
        "\n",
        "$$\\mu_k^{new} = \\frac{\\displaystyle \\sum_{n=1}^{N}r_{nk} \\, x_n}{\\displaystyle  \\sum_{n=1}^{N}r_{nk}}.$$\n",
        "\n",
        "__Teorema 2:__ A atualização dos parâmetros $\\Sigma_k$ são \n",
        "\n",
        "$$ \\Sigma_k^{new} = \\frac{1}{N_k} \\sum_{n=1}^{N}r_{nk}(x_n - \\mu_k)(x_n - \\mu_k)^\\intercal.$$\n",
        "\n",
        "__Teorema 3:__ As atualizações dos parâmetros $\\pi_k$ são dados por\n",
        "\n",
        "$$\\pi_k^{new} = \\frac{1}{N}\\sum_{n=1}^{N}r_{nk}, \\qquad k=1, \\cdots, K.$$\n",
        "\n",
        "\n",
        "\n",
        "É apresentado a prova do __Teorema 1__ no apêndice ao final desse notebook. A prova dos outros teoremas é possível encontrar na referência (1)."
      ],
      "metadata": {
        "id": "YRm_k61vbw03"
      }
    },
    {
      "cell_type": "markdown",
      "source": [
        "## Estimando os parâmetros\n",
        "\n",
        "Para estimar os parâmetros do modelo de misturas gaussianas segue-se o seguinte algoritmo:\n",
        "\n",
        "* Inicia-se com parâmetros $\\mu_k,\\Sigma_k , \\pi_k$ aleatórios\n",
        "* Repetir em loop até convergir\n",
        "  * Avaliar as responsabilidades $r_{nk}$ para cada ponto $x_n$ utilizando os parâmetros $\\mu_k,\\Sigma_k , \\pi_k$ atuais:  \n",
        "\n",
        "$$r_{nk} = \\frac{\\pi_k \\mathcal{N}(x_n \\mid \\mu_k, \\Sigma_k)}{\\sum_{j}\\pi_j\\mathcal{N}(x_n \\mid \\mu_j, \\Sigma_j)}$$\n",
        "\n",
        "\n",
        "  * Reestimar os parâmetros $\\mu_k,\\Sigma_k ,\\pi_k$ com as responsabilidades $r_{nk}$ computadas.\n",
        "\n",
        "$$\\mu_k = \\frac{1}{N_k} \\sum_{n=1}^{N}r_{nk}x_n$$\n",
        "\n",
        "$$\\Sigma_k = \\frac{1}{N_k} \\sum_{n=1}^{N}r_{nk}(x_n - \\mu_k)(x_n - \\mu_k)^\\intercal$$\n",
        "\n",
        "$$\\pi_k = \\frac{1}{N}\\sum_{n=1}^{N}r_{nk}$$\n",
        "\n",
        "\n",
        "\n",
        "Esse algoritmo é chamado de __expectation maximization__ ou algoritmo EM, e após finalizar esse processo, temos uma distribuição de densidade $p(\\mathcal{X} \\mid \\theta^{*})$ que explica os nossos dados, onde $\\theta^{*}$ é o conjunto com os melhores parâmetros encontrados."
      ],
      "metadata": {
        "id": "vTUc96LHoFys"
      }
    },
    {
      "cell_type": "markdown",
      "source": [
        "#Prós e contras\n",
        "\n",
        "\n",
        "* __Prós__:\n",
        "  * Velocidade: O modelo de misturas gaussianas é o algoritmo mais rápido para treinar entre os modelos de misturas.\n",
        "  * Capacidade de aprender estruturas complexas dos dados, como diferentes formas e mesmo agrupamentos dos dados que se sobrepõe.\n",
        "  * Como já comentado, esse algoritmo é capaz de aplicar _soft assignment_.\n",
        "\n",
        "\n",
        "* __Contras__:\n",
        "  * Quando não se tem pontos suficiente para cada componentes de mistura estimar as matrizes de covariância torna-se difícil, e o algoritmo é conhecido por divergir e encontrar soluções com verossimilhança infinita.\n",
        "  * Na prática, geralmente não se sabe qual valor de K, ou seja, quantas componentes de misturas há.\n",
        "  * A abordagem por _maximum likelihood_ pode sofrer fortemente de _overfitting_. No caso dos __modelos de mistura gaussiana__ isso ocorre quando a média de um componente de mistura é identica a um dado e a covariância tende a zero, nesse caso a _likelihood_ tende a zero."
      ],
      "metadata": {
        "id": "-JGxcqCYp-2G"
      }
    },
    {
      "cell_type": "markdown",
      "source": [
        "#Aplicação\n",
        "\n",
        "A biblioteca _sklearn_ facilita treinar modelos de mistura gaussiana uma vez que eles já implementaram o código e podemos apenas passar os hiperparâmetros que queremos e treinar o modelo.\n",
        "\n",
        "Veja a seguir os hiperparâmetros que é possível estabelecer segundo a documentação do _sklearn_\n",
        "\n",
        "sklearn.mixture.GaussianMixture(n_components=1, *, covariance_type='full', tol=0.001, reg_covar=1e-06, max_iter=100, n_init=1, init_params='kmeans', weights_init=None, means_init=None, precisions_init=None, random_state=None, warm_start=False, verbose=0, verbose_interval=10)\n",
        "\n",
        "Vale destacar os parâmetros _weights\\_init_, _means\\_init_, que nos permite iniciar o modelo com $\\pi_k, \\mu_k$ específicos."
      ],
      "metadata": {
        "id": "Iw3kSOY9uugH"
      }
    },
    {
      "cell_type": "markdown",
      "source": [
        "##Conhecendo os dados\n",
        "\n",
        "Utilizaremos um conjunto de dados públicos que podem ser encontrados no Kaggle de classificação de cogumelos, se são comestíveis ou não:"
      ],
      "metadata": {
        "id": "smp8tTLSmam2"
      }
    },
    {
      "cell_type": "markdown",
      "source": [
        "Dados __Mushroom Classification__: https://www.kaggle.com/datasets/uciml/mushroom-classification?resource=download\n",
        "\n",
        "Rótulos:\n",
        "\n",
        "* class: comestível: e  definitely poisonous: p\n",
        "\n",
        "Features:\n",
        "\n",
        "* cap-shape: bell=b, conical=c, convex=x, flat=f, knobbed=k, sunken=s\n",
        "* cap-surface: fibrous=f, grooves=g, scaly=y, smooth=s\n",
        "* cap-color: brown=n, buff=b, cinnamon=c, gray=g, green=r, pink=p, purple=u, red=e, white=w, yellow=y\n",
        "* bruises?: bruises=t, no=f\n",
        "* odor: almond=a, anise=l, creosote=c, fishy=y, foul=f,  musty=m, none=n, pungent=p, spicy=s\n",
        "* gill-attachment: attached=a, descending=d, free=f, notched=n\n",
        "* gill-spacing: close=c, crowded=w, distant=d\n",
        "* gill-size: broad=b, narrow=n\n",
        "* gill-color: black=k, brown=n, buff=b, chocolate=h, gray=g, green=r, orange=o, pink=p, purple=u, red=e, white=w, yellow=y\n",
        "* stalk-shape: enlarging=e, tapering=t\n",
        "* stalk-root: bulbous=b, club=c, cup=u, equal=e, rhizomorphs=z, rooted=r, missing=?\n",
        "* stalk-surface-above-ring: fibrous=f, scaly=y, silky=k, smooth=s\n",
        "* stalk-surface-below-ring: fibrous=f, scaly=y, silky=k, smooth=s\n",
        "* stalk-color-above-ring: brown=n, buff=b, cinnamon=c, gray=g, orange=o, pink=p, red=e, white=w, yellow=y\n",
        "* stalk-color-below-ring: brown=n, buff=b, cinnamon=c, gray=g, orange=o, pink=p, red=e, white=w, yellow=y\n",
        "* veil-type: partial=p, universal=u\n",
        "* veil-color: brown=n, orange=o, white=w, yellow=y\n",
        "* ring-number: none=n, one=o, two=t\n",
        "* ring-type: cobwebby=c, evanescent=e, flaring=f, large=l, none=n, pendant=p, sheathing=s, zone=z\n",
        "* spore-print-color: black=k, brown=n, buff=b, chocolate=h, green=r, orange=o, purple=u, white=w, yellow=y\n",
        "* population: abundant=a, clustered=c,numerous=n, scattered=s, several=v, solitary=y\n",
        "* habitat: grasses=g,l eaves=l, meadows=m, paths=p, urban=u, waste=w, woods=d"
      ],
      "metadata": {
        "id": "f-7csjPkm1au"
      }
    },
    {
      "cell_type": "code",
      "source": [
        "#importando os dados do sklearn\n",
        "from sklearn import datasets\n",
        "import pandas as pd\n",
        "\n",
        "seed = 42\n",
        "\n",
        "mushroom_path = '/content/mushrooms.csv'\n",
        "drugs_path = '/content/drug200.csv'"
      ],
      "metadata": {
        "id": "OaMTBJP-zSZR"
      },
      "execution_count": null,
      "outputs": []
    },
    {
      "cell_type": "code",
      "source": [
        "df_mush = pd.read_csv(mushroom_path)"
      ],
      "metadata": {
        "id": "6OvsNWNNlVVY"
      },
      "execution_count": null,
      "outputs": []
    },
    {
      "cell_type": "code",
      "source": [
        "df_mush.head()"
      ],
      "metadata": {
        "colab": {
          "base_uri": "https://localhost:8080/",
          "height": 352
        },
        "id": "YpUc-eKGl-l4",
        "outputId": "993f7498-691a-4c4b-add7-aa18c37f3bbe"
      },
      "execution_count": null,
      "outputs": [
        {
          "output_type": "execute_result",
          "data": {
            "text/plain": [
              "  class cap-shape cap-surface cap-color bruises odor gill-attachment  \\\n",
              "0     p         x           s         n       t    p               f   \n",
              "1     e         x           s         y       t    a               f   \n",
              "2     e         b           s         w       t    l               f   \n",
              "3     p         x           y         w       t    p               f   \n",
              "4     e         x           s         g       f    n               f   \n",
              "\n",
              "  gill-spacing gill-size gill-color  ... stalk-surface-below-ring  \\\n",
              "0            c         n          k  ...                        s   \n",
              "1            c         b          k  ...                        s   \n",
              "2            c         b          n  ...                        s   \n",
              "3            c         n          n  ...                        s   \n",
              "4            w         b          k  ...                        s   \n",
              "\n",
              "  stalk-color-above-ring stalk-color-below-ring veil-type veil-color  \\\n",
              "0                      w                      w         p          w   \n",
              "1                      w                      w         p          w   \n",
              "2                      w                      w         p          w   \n",
              "3                      w                      w         p          w   \n",
              "4                      w                      w         p          w   \n",
              "\n",
              "  ring-number ring-type spore-print-color population habitat  \n",
              "0           o         p                 k          s       u  \n",
              "1           o         p                 n          n       g  \n",
              "2           o         p                 n          n       m  \n",
              "3           o         p                 k          s       u  \n",
              "4           o         e                 n          a       g  \n",
              "\n",
              "[5 rows x 23 columns]"
            ],
            "text/html": [
              "\n",
              "  <div id=\"df-c84dd6aa-a9b1-452a-b613-c59795ed766d\">\n",
              "    <div class=\"colab-df-container\">\n",
              "      <div>\n",
              "<style scoped>\n",
              "    .dataframe tbody tr th:only-of-type {\n",
              "        vertical-align: middle;\n",
              "    }\n",
              "\n",
              "    .dataframe tbody tr th {\n",
              "        vertical-align: top;\n",
              "    }\n",
              "\n",
              "    .dataframe thead th {\n",
              "        text-align: right;\n",
              "    }\n",
              "</style>\n",
              "<table border=\"1\" class=\"dataframe\">\n",
              "  <thead>\n",
              "    <tr style=\"text-align: right;\">\n",
              "      <th></th>\n",
              "      <th>class</th>\n",
              "      <th>cap-shape</th>\n",
              "      <th>cap-surface</th>\n",
              "      <th>cap-color</th>\n",
              "      <th>bruises</th>\n",
              "      <th>odor</th>\n",
              "      <th>gill-attachment</th>\n",
              "      <th>gill-spacing</th>\n",
              "      <th>gill-size</th>\n",
              "      <th>gill-color</th>\n",
              "      <th>...</th>\n",
              "      <th>stalk-surface-below-ring</th>\n",
              "      <th>stalk-color-above-ring</th>\n",
              "      <th>stalk-color-below-ring</th>\n",
              "      <th>veil-type</th>\n",
              "      <th>veil-color</th>\n",
              "      <th>ring-number</th>\n",
              "      <th>ring-type</th>\n",
              "      <th>spore-print-color</th>\n",
              "      <th>population</th>\n",
              "      <th>habitat</th>\n",
              "    </tr>\n",
              "  </thead>\n",
              "  <tbody>\n",
              "    <tr>\n",
              "      <th>0</th>\n",
              "      <td>p</td>\n",
              "      <td>x</td>\n",
              "      <td>s</td>\n",
              "      <td>n</td>\n",
              "      <td>t</td>\n",
              "      <td>p</td>\n",
              "      <td>f</td>\n",
              "      <td>c</td>\n",
              "      <td>n</td>\n",
              "      <td>k</td>\n",
              "      <td>...</td>\n",
              "      <td>s</td>\n",
              "      <td>w</td>\n",
              "      <td>w</td>\n",
              "      <td>p</td>\n",
              "      <td>w</td>\n",
              "      <td>o</td>\n",
              "      <td>p</td>\n",
              "      <td>k</td>\n",
              "      <td>s</td>\n",
              "      <td>u</td>\n",
              "    </tr>\n",
              "    <tr>\n",
              "      <th>1</th>\n",
              "      <td>e</td>\n",
              "      <td>x</td>\n",
              "      <td>s</td>\n",
              "      <td>y</td>\n",
              "      <td>t</td>\n",
              "      <td>a</td>\n",
              "      <td>f</td>\n",
              "      <td>c</td>\n",
              "      <td>b</td>\n",
              "      <td>k</td>\n",
              "      <td>...</td>\n",
              "      <td>s</td>\n",
              "      <td>w</td>\n",
              "      <td>w</td>\n",
              "      <td>p</td>\n",
              "      <td>w</td>\n",
              "      <td>o</td>\n",
              "      <td>p</td>\n",
              "      <td>n</td>\n",
              "      <td>n</td>\n",
              "      <td>g</td>\n",
              "    </tr>\n",
              "    <tr>\n",
              "      <th>2</th>\n",
              "      <td>e</td>\n",
              "      <td>b</td>\n",
              "      <td>s</td>\n",
              "      <td>w</td>\n",
              "      <td>t</td>\n",
              "      <td>l</td>\n",
              "      <td>f</td>\n",
              "      <td>c</td>\n",
              "      <td>b</td>\n",
              "      <td>n</td>\n",
              "      <td>...</td>\n",
              "      <td>s</td>\n",
              "      <td>w</td>\n",
              "      <td>w</td>\n",
              "      <td>p</td>\n",
              "      <td>w</td>\n",
              "      <td>o</td>\n",
              "      <td>p</td>\n",
              "      <td>n</td>\n",
              "      <td>n</td>\n",
              "      <td>m</td>\n",
              "    </tr>\n",
              "    <tr>\n",
              "      <th>3</th>\n",
              "      <td>p</td>\n",
              "      <td>x</td>\n",
              "      <td>y</td>\n",
              "      <td>w</td>\n",
              "      <td>t</td>\n",
              "      <td>p</td>\n",
              "      <td>f</td>\n",
              "      <td>c</td>\n",
              "      <td>n</td>\n",
              "      <td>n</td>\n",
              "      <td>...</td>\n",
              "      <td>s</td>\n",
              "      <td>w</td>\n",
              "      <td>w</td>\n",
              "      <td>p</td>\n",
              "      <td>w</td>\n",
              "      <td>o</td>\n",
              "      <td>p</td>\n",
              "      <td>k</td>\n",
              "      <td>s</td>\n",
              "      <td>u</td>\n",
              "    </tr>\n",
              "    <tr>\n",
              "      <th>4</th>\n",
              "      <td>e</td>\n",
              "      <td>x</td>\n",
              "      <td>s</td>\n",
              "      <td>g</td>\n",
              "      <td>f</td>\n",
              "      <td>n</td>\n",
              "      <td>f</td>\n",
              "      <td>w</td>\n",
              "      <td>b</td>\n",
              "      <td>k</td>\n",
              "      <td>...</td>\n",
              "      <td>s</td>\n",
              "      <td>w</td>\n",
              "      <td>w</td>\n",
              "      <td>p</td>\n",
              "      <td>w</td>\n",
              "      <td>o</td>\n",
              "      <td>e</td>\n",
              "      <td>n</td>\n",
              "      <td>a</td>\n",
              "      <td>g</td>\n",
              "    </tr>\n",
              "  </tbody>\n",
              "</table>\n",
              "<p>5 rows × 23 columns</p>\n",
              "</div>\n",
              "      <button class=\"colab-df-convert\" onclick=\"convertToInteractive('df-c84dd6aa-a9b1-452a-b613-c59795ed766d')\"\n",
              "              title=\"Convert this dataframe to an interactive table.\"\n",
              "              style=\"display:none;\">\n",
              "        \n",
              "  <svg xmlns=\"http://www.w3.org/2000/svg\" height=\"24px\"viewBox=\"0 0 24 24\"\n",
              "       width=\"24px\">\n",
              "    <path d=\"M0 0h24v24H0V0z\" fill=\"none\"/>\n",
              "    <path d=\"M18.56 5.44l.94 2.06.94-2.06 2.06-.94-2.06-.94-.94-2.06-.94 2.06-2.06.94zm-11 1L8.5 8.5l.94-2.06 2.06-.94-2.06-.94L8.5 2.5l-.94 2.06-2.06.94zm10 10l.94 2.06.94-2.06 2.06-.94-2.06-.94-.94-2.06-.94 2.06-2.06.94z\"/><path d=\"M17.41 7.96l-1.37-1.37c-.4-.4-.92-.59-1.43-.59-.52 0-1.04.2-1.43.59L10.3 9.45l-7.72 7.72c-.78.78-.78 2.05 0 2.83L4 21.41c.39.39.9.59 1.41.59.51 0 1.02-.2 1.41-.59l7.78-7.78 2.81-2.81c.8-.78.8-2.07 0-2.86zM5.41 20L4 18.59l7.72-7.72 1.47 1.35L5.41 20z\"/>\n",
              "  </svg>\n",
              "      </button>\n",
              "      \n",
              "  <style>\n",
              "    .colab-df-container {\n",
              "      display:flex;\n",
              "      flex-wrap:wrap;\n",
              "      gap: 12px;\n",
              "    }\n",
              "\n",
              "    .colab-df-convert {\n",
              "      background-color: #E8F0FE;\n",
              "      border: none;\n",
              "      border-radius: 50%;\n",
              "      cursor: pointer;\n",
              "      display: none;\n",
              "      fill: #1967D2;\n",
              "      height: 32px;\n",
              "      padding: 0 0 0 0;\n",
              "      width: 32px;\n",
              "    }\n",
              "\n",
              "    .colab-df-convert:hover {\n",
              "      background-color: #E2EBFA;\n",
              "      box-shadow: 0px 1px 2px rgba(60, 64, 67, 0.3), 0px 1px 3px 1px rgba(60, 64, 67, 0.15);\n",
              "      fill: #174EA6;\n",
              "    }\n",
              "\n",
              "    [theme=dark] .colab-df-convert {\n",
              "      background-color: #3B4455;\n",
              "      fill: #D2E3FC;\n",
              "    }\n",
              "\n",
              "    [theme=dark] .colab-df-convert:hover {\n",
              "      background-color: #434B5C;\n",
              "      box-shadow: 0px 1px 3px 1px rgba(0, 0, 0, 0.15);\n",
              "      filter: drop-shadow(0px 1px 2px rgba(0, 0, 0, 0.3));\n",
              "      fill: #FFFFFF;\n",
              "    }\n",
              "  </style>\n",
              "\n",
              "      <script>\n",
              "        const buttonEl =\n",
              "          document.querySelector('#df-c84dd6aa-a9b1-452a-b613-c59795ed766d button.colab-df-convert');\n",
              "        buttonEl.style.display =\n",
              "          google.colab.kernel.accessAllowed ? 'block' : 'none';\n",
              "\n",
              "        async function convertToInteractive(key) {\n",
              "          const element = document.querySelector('#df-c84dd6aa-a9b1-452a-b613-c59795ed766d');\n",
              "          const dataTable =\n",
              "            await google.colab.kernel.invokeFunction('convertToInteractive',\n",
              "                                                     [key], {});\n",
              "          if (!dataTable) return;\n",
              "\n",
              "          const docLinkHtml = 'Like what you see? Visit the ' +\n",
              "            '<a target=\"_blank\" href=https://colab.research.google.com/notebooks/data_table.ipynb>data table notebook</a>'\n",
              "            + ' to learn more about interactive tables.';\n",
              "          element.innerHTML = '';\n",
              "          dataTable['output_type'] = 'display_data';\n",
              "          await google.colab.output.renderOutput(dataTable, element);\n",
              "          const docLink = document.createElement('div');\n",
              "          docLink.innerHTML = docLinkHtml;\n",
              "          element.appendChild(docLink);\n",
              "        }\n",
              "      </script>\n",
              "    </div>\n",
              "  </div>\n",
              "  "
            ]
          },
          "metadata": {},
          "execution_count": 36
        }
      ]
    },
    {
      "cell_type": "code",
      "source": [
        "#Rótulos\n",
        "df_mush[\"class\"].unique()"
      ],
      "metadata": {
        "colab": {
          "base_uri": "https://localhost:8080/"
        },
        "id": "OPXWh9hCqVMz",
        "outputId": "43d96f83-0160-41aa-c3ed-9f971e95c618"
      },
      "execution_count": null,
      "outputs": [
        {
          "output_type": "execute_result",
          "data": {
            "text/plain": [
              "array(['p', 'e'], dtype=object)"
            ]
          },
          "metadata": {},
          "execution_count": 37
        }
      ]
    },
    {
      "cell_type": "code",
      "source": [
        "#Separando features e rótulos\n",
        "\n",
        "df_mush_X = df_mush.drop(labels = ['class'], axis=1)\n",
        "df_mush_y = df_mush['class'].copy()"
      ],
      "metadata": {
        "id": "Hdr2M_G1q_p2"
      },
      "execution_count": null,
      "outputs": []
    },
    {
      "cell_type": "code",
      "source": [
        "df_mush_X.head()"
      ],
      "metadata": {
        "colab": {
          "base_uri": "https://localhost:8080/",
          "height": 352
        },
        "id": "XwV7ymXTrrAP",
        "outputId": "3d3fa20a-1842-4a49-e90c-5bdf96888e5f"
      },
      "execution_count": null,
      "outputs": [
        {
          "output_type": "execute_result",
          "data": {
            "text/plain": [
              "  cap-shape cap-surface cap-color bruises odor gill-attachment gill-spacing  \\\n",
              "0         x           s         n       t    p               f            c   \n",
              "1         x           s         y       t    a               f            c   \n",
              "2         b           s         w       t    l               f            c   \n",
              "3         x           y         w       t    p               f            c   \n",
              "4         x           s         g       f    n               f            w   \n",
              "\n",
              "  gill-size gill-color stalk-shape  ... stalk-surface-below-ring  \\\n",
              "0         n          k           e  ...                        s   \n",
              "1         b          k           e  ...                        s   \n",
              "2         b          n           e  ...                        s   \n",
              "3         n          n           e  ...                        s   \n",
              "4         b          k           t  ...                        s   \n",
              "\n",
              "  stalk-color-above-ring stalk-color-below-ring veil-type veil-color  \\\n",
              "0                      w                      w         p          w   \n",
              "1                      w                      w         p          w   \n",
              "2                      w                      w         p          w   \n",
              "3                      w                      w         p          w   \n",
              "4                      w                      w         p          w   \n",
              "\n",
              "  ring-number ring-type spore-print-color population habitat  \n",
              "0           o         p                 k          s       u  \n",
              "1           o         p                 n          n       g  \n",
              "2           o         p                 n          n       m  \n",
              "3           o         p                 k          s       u  \n",
              "4           o         e                 n          a       g  \n",
              "\n",
              "[5 rows x 22 columns]"
            ],
            "text/html": [
              "\n",
              "  <div id=\"df-512c5dc9-8efb-40de-b81c-59f9a4470056\">\n",
              "    <div class=\"colab-df-container\">\n",
              "      <div>\n",
              "<style scoped>\n",
              "    .dataframe tbody tr th:only-of-type {\n",
              "        vertical-align: middle;\n",
              "    }\n",
              "\n",
              "    .dataframe tbody tr th {\n",
              "        vertical-align: top;\n",
              "    }\n",
              "\n",
              "    .dataframe thead th {\n",
              "        text-align: right;\n",
              "    }\n",
              "</style>\n",
              "<table border=\"1\" class=\"dataframe\">\n",
              "  <thead>\n",
              "    <tr style=\"text-align: right;\">\n",
              "      <th></th>\n",
              "      <th>cap-shape</th>\n",
              "      <th>cap-surface</th>\n",
              "      <th>cap-color</th>\n",
              "      <th>bruises</th>\n",
              "      <th>odor</th>\n",
              "      <th>gill-attachment</th>\n",
              "      <th>gill-spacing</th>\n",
              "      <th>gill-size</th>\n",
              "      <th>gill-color</th>\n",
              "      <th>stalk-shape</th>\n",
              "      <th>...</th>\n",
              "      <th>stalk-surface-below-ring</th>\n",
              "      <th>stalk-color-above-ring</th>\n",
              "      <th>stalk-color-below-ring</th>\n",
              "      <th>veil-type</th>\n",
              "      <th>veil-color</th>\n",
              "      <th>ring-number</th>\n",
              "      <th>ring-type</th>\n",
              "      <th>spore-print-color</th>\n",
              "      <th>population</th>\n",
              "      <th>habitat</th>\n",
              "    </tr>\n",
              "  </thead>\n",
              "  <tbody>\n",
              "    <tr>\n",
              "      <th>0</th>\n",
              "      <td>x</td>\n",
              "      <td>s</td>\n",
              "      <td>n</td>\n",
              "      <td>t</td>\n",
              "      <td>p</td>\n",
              "      <td>f</td>\n",
              "      <td>c</td>\n",
              "      <td>n</td>\n",
              "      <td>k</td>\n",
              "      <td>e</td>\n",
              "      <td>...</td>\n",
              "      <td>s</td>\n",
              "      <td>w</td>\n",
              "      <td>w</td>\n",
              "      <td>p</td>\n",
              "      <td>w</td>\n",
              "      <td>o</td>\n",
              "      <td>p</td>\n",
              "      <td>k</td>\n",
              "      <td>s</td>\n",
              "      <td>u</td>\n",
              "    </tr>\n",
              "    <tr>\n",
              "      <th>1</th>\n",
              "      <td>x</td>\n",
              "      <td>s</td>\n",
              "      <td>y</td>\n",
              "      <td>t</td>\n",
              "      <td>a</td>\n",
              "      <td>f</td>\n",
              "      <td>c</td>\n",
              "      <td>b</td>\n",
              "      <td>k</td>\n",
              "      <td>e</td>\n",
              "      <td>...</td>\n",
              "      <td>s</td>\n",
              "      <td>w</td>\n",
              "      <td>w</td>\n",
              "      <td>p</td>\n",
              "      <td>w</td>\n",
              "      <td>o</td>\n",
              "      <td>p</td>\n",
              "      <td>n</td>\n",
              "      <td>n</td>\n",
              "      <td>g</td>\n",
              "    </tr>\n",
              "    <tr>\n",
              "      <th>2</th>\n",
              "      <td>b</td>\n",
              "      <td>s</td>\n",
              "      <td>w</td>\n",
              "      <td>t</td>\n",
              "      <td>l</td>\n",
              "      <td>f</td>\n",
              "      <td>c</td>\n",
              "      <td>b</td>\n",
              "      <td>n</td>\n",
              "      <td>e</td>\n",
              "      <td>...</td>\n",
              "      <td>s</td>\n",
              "      <td>w</td>\n",
              "      <td>w</td>\n",
              "      <td>p</td>\n",
              "      <td>w</td>\n",
              "      <td>o</td>\n",
              "      <td>p</td>\n",
              "      <td>n</td>\n",
              "      <td>n</td>\n",
              "      <td>m</td>\n",
              "    </tr>\n",
              "    <tr>\n",
              "      <th>3</th>\n",
              "      <td>x</td>\n",
              "      <td>y</td>\n",
              "      <td>w</td>\n",
              "      <td>t</td>\n",
              "      <td>p</td>\n",
              "      <td>f</td>\n",
              "      <td>c</td>\n",
              "      <td>n</td>\n",
              "      <td>n</td>\n",
              "      <td>e</td>\n",
              "      <td>...</td>\n",
              "      <td>s</td>\n",
              "      <td>w</td>\n",
              "      <td>w</td>\n",
              "      <td>p</td>\n",
              "      <td>w</td>\n",
              "      <td>o</td>\n",
              "      <td>p</td>\n",
              "      <td>k</td>\n",
              "      <td>s</td>\n",
              "      <td>u</td>\n",
              "    </tr>\n",
              "    <tr>\n",
              "      <th>4</th>\n",
              "      <td>x</td>\n",
              "      <td>s</td>\n",
              "      <td>g</td>\n",
              "      <td>f</td>\n",
              "      <td>n</td>\n",
              "      <td>f</td>\n",
              "      <td>w</td>\n",
              "      <td>b</td>\n",
              "      <td>k</td>\n",
              "      <td>t</td>\n",
              "      <td>...</td>\n",
              "      <td>s</td>\n",
              "      <td>w</td>\n",
              "      <td>w</td>\n",
              "      <td>p</td>\n",
              "      <td>w</td>\n",
              "      <td>o</td>\n",
              "      <td>e</td>\n",
              "      <td>n</td>\n",
              "      <td>a</td>\n",
              "      <td>g</td>\n",
              "    </tr>\n",
              "  </tbody>\n",
              "</table>\n",
              "<p>5 rows × 22 columns</p>\n",
              "</div>\n",
              "      <button class=\"colab-df-convert\" onclick=\"convertToInteractive('df-512c5dc9-8efb-40de-b81c-59f9a4470056')\"\n",
              "              title=\"Convert this dataframe to an interactive table.\"\n",
              "              style=\"display:none;\">\n",
              "        \n",
              "  <svg xmlns=\"http://www.w3.org/2000/svg\" height=\"24px\"viewBox=\"0 0 24 24\"\n",
              "       width=\"24px\">\n",
              "    <path d=\"M0 0h24v24H0V0z\" fill=\"none\"/>\n",
              "    <path d=\"M18.56 5.44l.94 2.06.94-2.06 2.06-.94-2.06-.94-.94-2.06-.94 2.06-2.06.94zm-11 1L8.5 8.5l.94-2.06 2.06-.94-2.06-.94L8.5 2.5l-.94 2.06-2.06.94zm10 10l.94 2.06.94-2.06 2.06-.94-2.06-.94-.94-2.06-.94 2.06-2.06.94z\"/><path d=\"M17.41 7.96l-1.37-1.37c-.4-.4-.92-.59-1.43-.59-.52 0-1.04.2-1.43.59L10.3 9.45l-7.72 7.72c-.78.78-.78 2.05 0 2.83L4 21.41c.39.39.9.59 1.41.59.51 0 1.02-.2 1.41-.59l7.78-7.78 2.81-2.81c.8-.78.8-2.07 0-2.86zM5.41 20L4 18.59l7.72-7.72 1.47 1.35L5.41 20z\"/>\n",
              "  </svg>\n",
              "      </button>\n",
              "      \n",
              "  <style>\n",
              "    .colab-df-container {\n",
              "      display:flex;\n",
              "      flex-wrap:wrap;\n",
              "      gap: 12px;\n",
              "    }\n",
              "\n",
              "    .colab-df-convert {\n",
              "      background-color: #E8F0FE;\n",
              "      border: none;\n",
              "      border-radius: 50%;\n",
              "      cursor: pointer;\n",
              "      display: none;\n",
              "      fill: #1967D2;\n",
              "      height: 32px;\n",
              "      padding: 0 0 0 0;\n",
              "      width: 32px;\n",
              "    }\n",
              "\n",
              "    .colab-df-convert:hover {\n",
              "      background-color: #E2EBFA;\n",
              "      box-shadow: 0px 1px 2px rgba(60, 64, 67, 0.3), 0px 1px 3px 1px rgba(60, 64, 67, 0.15);\n",
              "      fill: #174EA6;\n",
              "    }\n",
              "\n",
              "    [theme=dark] .colab-df-convert {\n",
              "      background-color: #3B4455;\n",
              "      fill: #D2E3FC;\n",
              "    }\n",
              "\n",
              "    [theme=dark] .colab-df-convert:hover {\n",
              "      background-color: #434B5C;\n",
              "      box-shadow: 0px 1px 3px 1px rgba(0, 0, 0, 0.15);\n",
              "      filter: drop-shadow(0px 1px 2px rgba(0, 0, 0, 0.3));\n",
              "      fill: #FFFFFF;\n",
              "    }\n",
              "  </style>\n",
              "\n",
              "      <script>\n",
              "        const buttonEl =\n",
              "          document.querySelector('#df-512c5dc9-8efb-40de-b81c-59f9a4470056 button.colab-df-convert');\n",
              "        buttonEl.style.display =\n",
              "          google.colab.kernel.accessAllowed ? 'block' : 'none';\n",
              "\n",
              "        async function convertToInteractive(key) {\n",
              "          const element = document.querySelector('#df-512c5dc9-8efb-40de-b81c-59f9a4470056');\n",
              "          const dataTable =\n",
              "            await google.colab.kernel.invokeFunction('convertToInteractive',\n",
              "                                                     [key], {});\n",
              "          if (!dataTable) return;\n",
              "\n",
              "          const docLinkHtml = 'Like what you see? Visit the ' +\n",
              "            '<a target=\"_blank\" href=https://colab.research.google.com/notebooks/data_table.ipynb>data table notebook</a>'\n",
              "            + ' to learn more about interactive tables.';\n",
              "          element.innerHTML = '';\n",
              "          dataTable['output_type'] = 'display_data';\n",
              "          await google.colab.output.renderOutput(dataTable, element);\n",
              "          const docLink = document.createElement('div');\n",
              "          docLink.innerHTML = docLinkHtml;\n",
              "          element.appendChild(docLink);\n",
              "        }\n",
              "      </script>\n",
              "    </div>\n",
              "  </div>\n",
              "  "
            ]
          },
          "metadata": {},
          "execution_count": 39
        }
      ]
    },
    {
      "cell_type": "code",
      "source": [
        "df_mush_X.dtypes"
      ],
      "metadata": {
        "colab": {
          "base_uri": "https://localhost:8080/"
        },
        "id": "H73OMC37uhZS",
        "outputId": "06e0e8de-2a44-483e-bed2-a7c66ef32ea8"
      },
      "execution_count": null,
      "outputs": [
        {
          "output_type": "execute_result",
          "data": {
            "text/plain": [
              "cap-shape                   object\n",
              "cap-surface                 object\n",
              "cap-color                   object\n",
              "bruises                     object\n",
              "odor                        object\n",
              "gill-attachment             object\n",
              "gill-spacing                object\n",
              "gill-size                   object\n",
              "gill-color                  object\n",
              "stalk-shape                 object\n",
              "stalk-root                  object\n",
              "stalk-surface-above-ring    object\n",
              "stalk-surface-below-ring    object\n",
              "stalk-color-above-ring      object\n",
              "stalk-color-below-ring      object\n",
              "veil-type                   object\n",
              "veil-color                  object\n",
              "ring-number                 object\n",
              "ring-type                   object\n",
              "spore-print-color           object\n",
              "population                  object\n",
              "habitat                     object\n",
              "dtype: object"
            ]
          },
          "metadata": {},
          "execution_count": 40
        }
      ]
    },
    {
      "cell_type": "code",
      "source": [
        "#ver valores das colunas\n",
        "\n",
        "columns = df_mush_X.columns\n",
        "unique_values = {columns[i] : list(df_mush_X[columns[i]].unique()) for i in range(df_mush_X.shape[1])}\n",
        "unique_values"
      ],
      "metadata": {
        "colab": {
          "base_uri": "https://localhost:8080/"
        },
        "id": "CQLRCR2rpiF9",
        "outputId": "509c3908-fb6c-445f-ca7f-c484e008e7ec"
      },
      "execution_count": null,
      "outputs": [
        {
          "output_type": "execute_result",
          "data": {
            "text/plain": [
              "{'bruises': ['t', 'f'],\n",
              " 'cap-color': ['n', 'y', 'w', 'g', 'e', 'p', 'b', 'u', 'c', 'r'],\n",
              " 'cap-shape': ['x', 'b', 's', 'f', 'k', 'c'],\n",
              " 'cap-surface': ['s', 'y', 'f', 'g'],\n",
              " 'gill-attachment': ['f', 'a'],\n",
              " 'gill-color': ['k', 'n', 'g', 'p', 'w', 'h', 'u', 'e', 'b', 'r', 'y', 'o'],\n",
              " 'gill-size': ['n', 'b'],\n",
              " 'gill-spacing': ['c', 'w'],\n",
              " 'habitat': ['u', 'g', 'm', 'd', 'p', 'w', 'l'],\n",
              " 'odor': ['p', 'a', 'l', 'n', 'f', 'c', 'y', 's', 'm'],\n",
              " 'population': ['s', 'n', 'a', 'v', 'y', 'c'],\n",
              " 'ring-number': ['o', 't', 'n'],\n",
              " 'ring-type': ['p', 'e', 'l', 'f', 'n'],\n",
              " 'spore-print-color': ['k', 'n', 'u', 'h', 'w', 'r', 'o', 'y', 'b'],\n",
              " 'stalk-color-above-ring': ['w', 'g', 'p', 'n', 'b', 'e', 'o', 'c', 'y'],\n",
              " 'stalk-color-below-ring': ['w', 'p', 'g', 'b', 'n', 'e', 'y', 'o', 'c'],\n",
              " 'stalk-root': ['e', 'c', 'b', 'r', '?'],\n",
              " 'stalk-shape': ['e', 't'],\n",
              " 'stalk-surface-above-ring': ['s', 'f', 'k', 'y'],\n",
              " 'stalk-surface-below-ring': ['s', 'f', 'y', 'k'],\n",
              " 'veil-color': ['w', 'n', 'o', 'y'],\n",
              " 'veil-type': ['p']}"
            ]
          },
          "metadata": {},
          "execution_count": 41
        }
      ]
    },
    {
      "cell_type": "code",
      "source": [
        "from sklearn.model_selection import train_test_split\n",
        "\n",
        "X_train, X_test, y_train, y_test = train_test_split(df_mush_X, df_mush_y, test_size = 0.2, random_state=seed)"
      ],
      "metadata": {
        "id": "ut-Bb9jQFdpM"
      },
      "execution_count": null,
      "outputs": []
    },
    {
      "cell_type": "code",
      "source": [
        "print(X_train.shape)\n",
        "print(X_test.shape)"
      ],
      "metadata": {
        "colab": {
          "base_uri": "https://localhost:8080/"
        },
        "id": "_9h2J_LGyrpN",
        "outputId": "5b566f09-887b-4b02-c36f-d63273e0c3f4"
      },
      "execution_count": null,
      "outputs": [
        {
          "output_type": "stream",
          "name": "stdout",
          "text": [
            "(6499, 22)\n",
            "(1625, 22)\n"
          ]
        }
      ]
    },
    {
      "cell_type": "code",
      "source": [
        "# Importações necessárias para construir a pipeline\n",
        "# Como todas as colunas são categórias, utilizaremos o OneHotEnconder\n",
        "\n",
        "from sklearn.mixture import GaussianMixture\n",
        "from sklearn.pipeline import Pipeline\n",
        "from sklearn.impute import SimpleImputer\n",
        "from sklearn.preprocessing import StandardScaler\n",
        "from sklearn.preprocessing import OneHotEncoder\n",
        "\n",
        "# Pipeline que será usada para tratar os dados\n",
        "\n",
        "pipeline = Pipeline([\n",
        "             ('imputer', SimpleImputer(strategy='most_frequent')),  # Moda (Valor mais frequente)\n",
        "             ('encoder', OneHotEncoder())\n",
        "             ])"
      ],
      "metadata": {
        "id": "aQzol2eP0e09"
      },
      "execution_count": null,
      "outputs": []
    },
    {
      "cell_type": "code",
      "source": [
        "# Passando os dados pelo pipeline\n",
        "\n",
        "mush_prepared = pipeline.fit_transform(X_train)"
      ],
      "metadata": {
        "id": "k0QSkRXf01ez"
      },
      "execution_count": null,
      "outputs": []
    },
    {
      "cell_type": "code",
      "source": [
        "#Treinando modelo com 2 componentes, número de rótulos (Comestível ou Tóxico)\n",
        "gauss_mixture = GaussianMixture(n_components = 2, random_state = seed)"
      ],
      "metadata": {
        "id": "o1Jw9i3j1EvG"
      },
      "execution_count": null,
      "outputs": []
    },
    {
      "cell_type": "code",
      "source": [
        "model = gauss_mixture.fit(mush_prepared.toarray())"
      ],
      "metadata": {
        "id": "exlVlcXu7BNp"
      },
      "execution_count": null,
      "outputs": []
    },
    {
      "cell_type": "markdown",
      "source": [
        "Com o modelo treinado, vejamos os scores de probabilidade que o modelo aplica a dois pontos quaisquer do conjunto de teste, apenas como investigação de como o modelo se comporta com dados novos"
      ],
      "metadata": {
        "id": "6Ps7gHiP_ZO9"
      }
    },
    {
      "cell_type": "code",
      "source": [
        "teste_um_X = X_test.iloc[[52,75, 1000]]\n",
        "teste_um_y = y_test.iloc[[52,75, 1001]]"
      ],
      "metadata": {
        "id": "O5VuLH357FWl"
      },
      "execution_count": null,
      "outputs": []
    },
    {
      "cell_type": "code",
      "source": [
        "teste_transf_X = pipeline.transform(teste_um_X)"
      ],
      "metadata": {
        "id": "4wz9UvuK7lMU"
      },
      "execution_count": null,
      "outputs": []
    },
    {
      "cell_type": "code",
      "source": [
        "model.predict_proba(teste_transf_X.toarray())"
      ],
      "metadata": {
        "colab": {
          "base_uri": "https://localhost:8080/"
        },
        "id": "0y-cZeqy8KFG",
        "outputId": "3fc960d1-4ff5-4668-eb65-943e5443c461"
      },
      "execution_count": null,
      "outputs": [
        {
          "output_type": "execute_result",
          "data": {
            "text/plain": [
              "array([[0., 1.],\n",
              "       [0., 1.],\n",
              "       [1., 0.]])"
            ]
          },
          "metadata": {},
          "execution_count": 122
        }
      ]
    },
    {
      "cell_type": "code",
      "source": [
        "teste_um_y"
      ],
      "metadata": {
        "colab": {
          "base_uri": "https://localhost:8080/"
        },
        "id": "HigGzIpm8TsR",
        "outputId": "477827cf-8556-4448-c813-afc26a593551"
      },
      "execution_count": null,
      "outputs": [
        {
          "output_type": "execute_result",
          "data": {
            "text/plain": [
              "5111    p\n",
              "6822    p\n",
              "91      e\n",
              "Name: class, dtype: object"
            ]
          },
          "metadata": {},
          "execution_count": 123
        }
      ]
    },
    {
      "cell_type": "markdown",
      "source": [
        "Observamos pelos testes anteriores que pelo menos superficialmente o modelo está alocando os cogumelos comestíveis na primeira componentes e os tóxicos na segunda componente\n",
        "\n",
        "vejamos agora se o modelo está generalizando bem de fato os dados no conjunto de teste"
      ],
      "metadata": {
        "id": "FUv5mD_C-Gb2"
      }
    },
    {
      "cell_type": "code",
      "source": [
        "test_transf = pipeline.transform(X_test)\n",
        "predicted_test = model.predict(test_transf.toarray())"
      ],
      "metadata": {
        "id": "-2Jvs8pp9CCZ"
      },
      "execution_count": null,
      "outputs": []
    },
    {
      "cell_type": "code",
      "source": [
        "#Métrica para avaliar a qualidade das avaliações do modelo\n",
        "\n",
        "from sklearn.metrics import v_measure_score\n",
        "\n",
        "v_score = v_measure_score(y_test, predicted_test)\n",
        "v_score"
      ],
      "metadata": {
        "colab": {
          "base_uri": "https://localhost:8080/"
        },
        "id": "OSBOT_Zr6V-A",
        "outputId": "59db0843-f948-44a6-96ab-36dad71b5db9"
      },
      "execution_count": null,
      "outputs": [
        {
          "output_type": "execute_result",
          "data": {
            "text/plain": [
              "0.5340138206273285"
            ]
          },
          "metadata": {},
          "execution_count": 125
        }
      ]
    },
    {
      "cell_type": "markdown",
      "source": [
        "O modelo está acertando em torno de 50% das avaliações segundo essa métrica.\n",
        "\n",
        "Muito provavelmente conseguimos melhorar esse score testando outras formas de tratar os dados e números diferentes de componentes.\n",
        "\n",
        "Porém, o objetivo desta parte prática era apenas para apresentar um pouco de como podemos usar esse modelo com o sklearn."
      ],
      "metadata": {
        "id": "_tnBA_LB_kGA"
      }
    },
    {
      "cell_type": "markdown",
      "source": [
        "# Apêndice\n",
        "\n",
        "__Teorema 1:__ A atualização dos parâmetros $\\mu_k, k = 1, \\cdots, K$, do modelo de mistura gaussiana é dado por:\n",
        "\n",
        "$$\\mu_k^{new} = \\frac{\\displaystyle \\sum_{n=1}^{N}r_{nk} \\, x_n}{\\displaystyle  \\sum_{n=1}^{N}r_{nk}}.$$\n",
        "\n",
        "\n",
        "__Prova:__ Das condições necessárias (*) é possível ver que o gradiente do _log-likelihood_ com respeito aos parâmetros $\\mu_k, k = 1, 2, \\cdots, K$ requer que computemos a seguinte derivada parcial:\n",
        "\n",
        "$$\\frac{\\partial p(x_n \\mid \\theta)}{\\partial \\mu_k} = \\sum_{j=1}^{K} \\pi_j \\frac{\\partial \\mathcal{N}(x_n \\mid \\mu_j, \\Sigma_j)}{\\partial \\mu_k} = \\pi_k \\frac{\\partial \\mathcal{N}(x_n \\mid \\mu_k, \\Sigma_k)}{\\mu_k} = \\pi_k(x_n - \\mu_k)^\\intercal \\Sigma_k^{-1}\\mathcal{N}(x_n \\mid \\mu_k, \\Sigma_k) \\qquad (1)$$\n",
        "\n",
        "e assim percebe-se que apenas a $k$-ésima componentes d mistura depende de $\\mu_k$. Temos também da regra da cadeia que\n",
        "\n",
        "$$\\frac{\\partial log \\ p(x_n \\mid \\theta)}{\\partial \\mu_k} = \\frac{1}{p(x_n \\mid \\theta)} \\frac{\\partial p(x_n \\mid \\theta)}{\\partial \\mu_k} \\qquad (2)$$\n",
        "\n",
        "Calculando a derivada parcial de $L$ com respeito a $\\mu_k$ tem-se que \n",
        "\n",
        "$$\\frac{\\partial L}{\\partial \\mu_k} = \\sum_{n=1}^N \\frac{\\partial log \\ p(x_n \\mid \\theta)}{\\partial \\mu_k} \\stackrel{(2)}{=} \\sum_{n=1}^N \\frac{1}{p(x_n \\mid \\theta)} \\frac{\\partial \\ p(x_n \\mid \\theta)}{\\partial \\mu_k}$$\n",
        "\n",
        "$$\\stackrel{(1)}{=} \\sum_{n-1}^N (x_n - \\mu_k)^{\\intercal} \\Sigma_k^{-1} \\pi_k \\mathcal{N}(x_n \\mid \\mu_k, \\Sigma_k) \\frac{1}{\\sum_{j=1}^K \\pi_j \\mathcal{N}(x_n \\mid \\mu_j, \\Sigma_j)} \\qquad (3)$$\n",
        "\n",
        "onde na última igualdade utilizou-se da definição\n",
        "\n",
        "$$p(x_n \\mid \\theta) = \\sum_{j=1}^K \\pi_j \\mathcal{N}(x_n \\mid \\mu_j, \\Sigma_j) \\qquad \\rightarrow \\qquad \\frac{1}{p(x_n \\mid \\theta)} = \\frac{1}{\\sum_{j=1}^K \\pi_j \\mathcal{N}(x_n \\mid \\mu_j, \\Sigma_j)}$$\n",
        "\n",
        "\n",
        "Agora como $$r_{nk} = \\frac{\\pi_k\\mathcal{N}(x_n \\mid \\mu_k,  \\Sigma_k )}{\\sum_{j=1}^{K}\\pi_{j}\\mathcal{N}(x_n \\mid \\mu_j,  \\Sigma_j )}$$\n",
        "\n",
        "em (3) temos\n",
        "\n",
        "$$\\frac{\\partial L}{\\partial \\mu_k} = \\sum_{n-1}^N r_{nk}(x_n - \\mu_k)^{\\intercal} \\Sigma_k^{-1} \\qquad (4)$$\n",
        "\n",
        "resolvendo (4) para $\\mu_k^{new}$, fazendo $\\frac{\\partial L(\\mu_k^{new})}{\\partial \\mu_k} = 0^\\intercal$ obtemos\n",
        "\n",
        "$$\\sum_{n=1}^{N}r_{nk}x_n = \\sum_{n=1}^{N}r_{nk}\\mu_k^{new} \\qquad \\leftrightarrow \\qquad \\mu_k^{new} = \\frac{\\sum_{n=1}^N r_{nk}x_n}{\\sum_{n=1}^{N}r_{nk}}$$\n",
        "\n",
        "<p align=\"right\">$\\blacksquare$</p>"
      ],
      "metadata": {
        "id": "KZc7wYTwCb_x"
      }
    },
    {
      "cell_type": "markdown",
      "source": [
        "#Bibliografia\n",
        "\n",
        "(1) Deisenroth , M. Peter; Faisal, A. Aldo; Ong, C. Soon. Mathematics for Machine Learning. Cambridge: Cambridge University Press, 2020. [Link](https://mml-book.github.io/book/mml-book.pdf);\n",
        "\n",
        "(2) Machine Learning | Curso completo em Python | 2022. [Link](https://www.udemy.com/course/edson-cilos-ml/);\n",
        "\n",
        "(3) Scikit Learning, 2022. [link](https://scikit-learn.org/stable/modules/density.html).\n",
        "\n",
        "(4) Aurlien Gron. 2017. Hands-On Machine Learning with Scikit-Learn and TensorFlow: Concepts, Tools, and Techniques to Build Intelligent Systems (2nd. ed.). O'Reilly Media, Inc."
      ],
      "metadata": {
        "id": "YZsji2D1WMJN"
      }
    }
  ]
}